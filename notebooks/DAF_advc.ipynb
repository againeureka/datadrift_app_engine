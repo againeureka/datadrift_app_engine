{
 "cells": [
  {
   "cell_type": "markdown",
   "metadata": {},
   "source": [
    "# 드리프트 분석 툴 고도화\n",
    "* 사용자 데이터 입력 받기 기능 (ref, cur, test)\n",
    "* 시각화를 위한 데이터셋 머지\n",
    "* 임베딩 등 전처리 기능\n",
    "* 기존 기능 유지 및 보완 (샘플링, 추출, 모델 훈련 및 결과모델 내려받기 등)"
   ]
  },
  {
   "cell_type": "markdown",
   "metadata": {},
   "source": [
    "## 데이터 입력\n",
    "\n",
    "* 데이터 입력 받기 기능\n",
    "    * ref, cur, test에 해당하는 데이터 입력\n",
    "    * .zip 형태로 업로드\n",
    "    * 데이터 포맷 선택 (fiftyone, yolov5, raw)\n",
    "* 입력받은 데이터 압축 해제\n",
    "    * 선택한 포맷에 맞는 형태로 처리\n",
    "* 데이터를 fiftyone dataset 객체로 생성\n",
    "* 각 데이터셋 머지"
   ]
  },
  {
   "cell_type": "code",
   "execution_count": 10,
   "metadata": {},
   "outputs": [
    {
     "data": {
      "text/plain": [
       "['kolp_dataset',\n",
       " 'ls-annotation-example',\n",
       " 'test_raw_imgs',\n",
       " 'tunelpdr_cur',\n",
       " 'tunelpdr_merged',\n",
       " 'tunelpdr_ref',\n",
       " 'tunelpdr_test']"
      ]
     },
     "execution_count": 10,
     "metadata": {},
     "output_type": "execute_result"
    }
   ],
   "source": [
    "import fiftyone as fo\n",
    "\n",
    "fo.list_datasets()"
   ]
  },
  {
   "cell_type": "code",
   "execution_count": 9,
   "metadata": {},
   "outputs": [
    {
     "data": {
      "text/plain": [
       "['kolp_dataset',\n",
       " 'ls-annotation-example',\n",
       " 'test_raw_imgs',\n",
       " 'tunelpdr_cur',\n",
       " 'tunelpdr_ref',\n",
       " 'tunelpdr_test']"
      ]
     },
     "execution_count": 9,
     "metadata": {},
     "output_type": "execute_result"
    }
   ],
   "source": [
    "fo.delete_dataset(\"2025.01.21.16.29.03\")\n",
    "fo.delete_dataset(\"2025.01.21.16.44.29\")\n",
    "\n",
    "fo.list_datasets()"
   ]
  },
  {
   "cell_type": "code",
   "execution_count": null,
   "metadata": {},
   "outputs": [],
   "source": []
  }
 ],
 "metadata": {
  "kernelspec": {
   "display_name": "datadrift",
   "language": "python",
   "name": "python3"
  },
  "language_info": {
   "codemirror_mode": {
    "name": "ipython",
    "version": 3
   },
   "file_extension": ".py",
   "mimetype": "text/x-python",
   "name": "python",
   "nbconvert_exporter": "python",
   "pygments_lexer": "ipython3",
   "version": "3.12.5"
  }
 },
 "nbformat": 4,
 "nbformat_minor": 2
}
