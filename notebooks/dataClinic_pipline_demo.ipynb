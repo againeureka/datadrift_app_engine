{
 "cells": [
  {
   "cell_type": "markdown",
   "metadata": {},
   "source": [
    "# 데이터 추출 및 모델 튜닝 파이프라인\n",
    "\n",
    "* 데이터셋 리샘플링\n",
    "* 데이터셋 추출\n",
    "* 데이터셋과 학습대상 모델 매핑\n",
    "* 학습 수행\n",
    "* 모델 추출 및 테스트\n",
    "\n",
    "기능 실험 테스트코드"
   ]
  },
  {
   "cell_type": "markdown",
   "metadata": {},
   "source": [
    "## 기능 테스트\n",
    "경로 설정, 파일명 추출, 데이터셋 분할, 라벨 파일 읽기, 데이터셋 생성 및 삭제 등 기능 테스트"
   ]
  },
  {
   "cell_type": "markdown",
   "metadata": {},
   "source": [
    "### 데이터셋 구조 정의\n",
    "\n",
    "생성될 데이터셋 경로 정의, 추출 시 데이터에 대한 레이블 파일 매핑 기능 테스트"
   ]
  },
  {
   "cell_type": "code",
   "execution_count": 1,
   "metadata": {},
   "outputs": [
    {
     "name": "stdout",
     "output_type": "stream",
     "text": [
      "README.md          \u001b[1m\u001b[36mdemo_datasets\u001b[m\u001b[m      \u001b[1m\u001b[36mmvp_scripts\u001b[m\u001b[m        \u001b[1m\u001b[36mui_app_test\u001b[m\u001b[m\n",
      "\u001b[1m\u001b[36mda_framework\u001b[m\u001b[m       drift_datasets.zip \u001b[1m\u001b[36mnotebooks\u001b[m\u001b[m          \u001b[1m\u001b[36mworkspace\u001b[m\u001b[m\n",
      "\u001b[1m\u001b[36mdatasets\u001b[m\u001b[m           \u001b[1m\u001b[36mkolpr_test\u001b[m\u001b[m         \u001b[1m\u001b[36morange3\u001b[m\u001b[m\n"
     ]
    }
   ],
   "source": [
    "!ls ../.."
   ]
  },
  {
   "cell_type": "code",
   "execution_count": 2,
   "metadata": {},
   "outputs": [
    {
     "data": {
      "text/plain": [
       "['README.roboflow.txt',\n",
       " 'valid',\n",
       " 'README.dataset.txt',\n",
       " 'test',\n",
       " 'data.yaml',\n",
       " 'train']"
      ]
     },
     "execution_count": 2,
     "metadata": {},
     "output_type": "execute_result"
    }
   ],
   "source": [
    "import os\n",
    "\n",
    "os.listdir('../../datasets/car_kolp_data')"
   ]
  },
  {
   "cell_type": "markdown",
   "metadata": {},
   "source": [
    "데이터셋 스플릿 별 경로 파싱"
   ]
  },
  {
   "cell_type": "code",
   "execution_count": 5,
   "metadata": {},
   "outputs": [],
   "source": [
    "dataset_path = '../../datasets/car_kolp_data'\n",
    "\n",
    "train_path = os.path.join(dataset_path, 'train')\n",
    "valid_path = os.path.join(dataset_path, 'valid')\n",
    "test_path = os.path.join(dataset_path, 'test')\n",
    "\n",
    "train_images = os.listdir(os.path.join(train_path, 'images'))\n",
    "valid_images = os.listdir(os.path.join(valid_path, 'images'))\n",
    "test_images = os.listdir(os.path.join(test_path, 'images'))"
   ]
  },
  {
   "cell_type": "markdown",
   "metadata": {},
   "source": [
    "레이블 파일 매칭"
   ]
  },
  {
   "cell_type": "code",
   "execution_count": 12,
   "metadata": {},
   "outputs": [
    {
     "name": "stdout",
     "output_type": "stream",
     "text": [
      "IMG_1567_png.rf.bb44fbd0b5f8948712055a9ef72d7a8e.txt\n"
     ]
    }
   ],
   "source": [
    "img_name = os.path.splitext(train_images[0])[0]\n",
    "\n",
    "if os.path.exists(os.path.join(train_path, 'labels', f'{img_name}.txt')):\n",
    "    label_name = f'{img_name}.txt'\n",
    "    print(label_name)"
   ]
  },
  {
   "cell_type": "code",
   "execution_count": 35,
   "metadata": {},
   "outputs": [
    {
     "name": "stdout",
     "output_type": "stream",
     "text": [
      "2449\n"
     ]
    }
   ],
   "source": [
    "print(len(train_images) + len(valid_images) + len(test_images))"
   ]
  },
  {
   "cell_type": "markdown",
   "metadata": {},
   "source": [
    "input 경로, export 경로 설정"
   ]
  },
  {
   "cell_type": "code",
   "execution_count": 36,
   "metadata": {},
   "outputs": [],
   "source": [
    "# Define paths\n",
    "input_dataset_path = '../../datasets/car_kolp_data'\n",
    "output_base_path = '../datasets/512yolo'\n",
    "view_name = 'kolpr_selection_test'\n",
    "output_dataset_path = os.path.join(output_base_path, view_name)"
   ]
  },
  {
   "cell_type": "markdown",
   "metadata": {},
   "source": [
    "추출 경로에 데이터셋 및 스플릿 폴더 생성"
   ]
  },
  {
   "cell_type": "code",
   "execution_count": 37,
   "metadata": {},
   "outputs": [],
   "source": [
    "out_train_path = os.path.join(output_dataset_path, 'train')\n",
    "out_valid_path = os.path.join(output_dataset_path, 'valid')\n",
    "out_test_path = os.path.join(output_dataset_path, 'test')\n",
    "# Create output directories\n",
    "os.makedirs(output_dataset_path, exist_ok=True)\n",
    "os.makedirs(out_train_path, exist_ok=True)\n",
    "os.makedirs(out_valid_path, exist_ok=True)\n",
    "os.makedirs(out_test_path, exist_ok=True)"
   ]
  },
  {
   "cell_type": "markdown",
   "metadata": {},
   "source": [
    "### 데이터셋 추출 기능 종합 테스트\n",
    "\n",
    "데이터셋 로드 및 샘플링된 데이터-레이블 쌍 추출 테스트"
   ]
  },
  {
   "cell_type": "code",
   "execution_count": 15,
   "metadata": {},
   "outputs": [
    {
     "name": "stdout",
     "output_type": "stream",
     "text": [
      " 100% |███████████████| 2449/2449 [155.4ms elapsed, 0s remaining, 15.9K samples/s]  \n"
     ]
    },
    {
     "data": {
      "text/plain": [
       "2449"
      ]
     },
     "execution_count": 15,
     "metadata": {},
     "output_type": "execute_result"
    }
   ],
   "source": [
    "import fiftyone as fo\n",
    "import fiftyone.brain as fob\n",
    "import cv2\n",
    "import os\n",
    "\n",
    "# Define paths\n",
    "input_dataset_path = '../../datasets/car_kolp_data'\n",
    "output_base_path = '../datasets/512yolo'\n",
    "view_name = 'kolpr_selection_test'\n",
    "output_dataset_path = os.path.join(output_base_path, view_name)\n",
    "# data-split dir paths\n",
    "out_train_path = os.path.join(output_dataset_path, 'train')\n",
    "out_valid_path = os.path.join(output_dataset_path, 'valid')\n",
    "out_test_path = os.path.join(output_dataset_path, 'test')\n",
    "# Create output directories\n",
    "os.makedirs(output_dataset_path, exist_ok=True)\n",
    "os.makedirs(out_train_path, exist_ok=True)\n",
    "os.makedirs(out_valid_path, exist_ok=True)\n",
    "os.makedirs(out_test_path, exist_ok=True)\n",
    "\n",
    "dataset = fo.Dataset.from_images_dir(input_dataset_path)\n",
    "\n",
    "len(dataset)"
   ]
  },
  {
   "cell_type": "markdown",
   "metadata": {},
   "source": [
    "랜덤으로 샘플링 테스트"
   ]
  },
  {
   "cell_type": "code",
   "execution_count": 16,
   "metadata": {},
   "outputs": [
    {
     "data": {
      "text/plain": [
       "100"
      ]
     },
     "execution_count": 16,
     "metadata": {},
     "output_type": "execute_result"
    }
   ],
   "source": [
    "import random\n",
    "\n",
    "selected_samples = []\n",
    "random_samples = random.sample(list(dataset), 100)\n",
    "\n",
    "for sample in random_samples:\n",
    "    selected_samples.append(sample.filename)\n",
    "\n",
    "len(selected_samples)"
   ]
  },
  {
   "cell_type": "markdown",
   "metadata": {},
   "source": [
    "데이터 스플릿 생성 (train, val, test)"
   ]
  },
  {
   "cell_type": "code",
   "execution_count": 17,
   "metadata": {},
   "outputs": [],
   "source": [
    "# Shuffle and split the images\n",
    "random.shuffle(selected_samples)\n",
    "num_samples = len(selected_samples)\n",
    "train_split = int(0.7 * num_samples)\n",
    "valid_split = int(0.9 * num_samples)"
   ]
  },
  {
   "cell_type": "code",
   "execution_count": 18,
   "metadata": {},
   "outputs": [
    {
     "name": "stdout",
     "output_type": "stream",
     "text": [
      "train data :  70\n",
      "valid data :  20\n",
      "test data :  10\n"
     ]
    }
   ],
   "source": [
    "train_samples = selected_samples[:train_split]\n",
    "valid_samples = selected_samples[train_split:valid_split]\n",
    "test_samples = selected_samples[valid_split:]\n",
    "\n",
    "print(\"train data : \",len(train_samples))\n",
    "print(\"valid data : \",len(valid_samples))\n",
    "print(\"test data : \",len(test_samples))\n"
   ]
  },
  {
   "cell_type": "markdown",
   "metadata": {},
   "source": [
    "데이터 - 레이블 쌍 매핑 및 추출 기능"
   ]
  },
  {
   "cell_type": "code",
   "execution_count": 19,
   "metadata": {},
   "outputs": [],
   "source": [
    "# Function to find and copy images and labels\n",
    "def find_and_copy_images_and_labels(images, subset):\n",
    "    # 각 스플릿의 images와 labels 디렉토리 생성\n",
    "    images_dir = os.path.join(output_dataset_path, subset, 'images')\n",
    "    labels_dir = os.path.join(output_dataset_path, subset, 'labels')\n",
    "    os.makedirs(images_dir, exist_ok=True)\n",
    "    os.makedirs(labels_dir, exist_ok=True)\n",
    "    \n",
    "    for image_name in images:\n",
    "        found = False\n",
    "        for split in ['train', 'valid', 'test']:\n",
    "            image_src = os.path.join(input_dataset_path, split, 'images', image_name)\n",
    "            label_name = os.path.splitext(image_name)[0] + '.txt'\n",
    "            label_src = os.path.join(input_dataset_path, split, 'labels', label_name)\n",
    "            \n",
    "            if os.path.exists(image_src) and os.path.exists(label_src):\n",
    "                image_dst = os.path.join(output_dataset_path, subset, 'images', image_name)\n",
    "                label_dst = os.path.join(output_dataset_path, subset, 'labels', label_name)\n",
    "                \n",
    "                shutil.copy(image_src, image_dst)\n",
    "                shutil.copy(label_src, label_dst)\n",
    "                \n",
    "                found = True\n",
    "                break\n",
    "        \n",
    "        if not found:\n",
    "            print(f\"Warning: {image_name} or its label not found in any split.\")"
   ]
  },
  {
   "cell_type": "markdown",
   "metadata": {},
   "source": [
    "데이터 추출 후 yolo dataset 포맷에 맞는 yaml 설정 파일 생성"
   ]
  },
  {
   "cell_type": "code",
   "execution_count": 20,
   "metadata": {},
   "outputs": [
    {
     "name": "stdout",
     "output_type": "stream",
     "text": [
      "Dataset split and data.yaml file created successfully.\n"
     ]
    }
   ],
   "source": [
    "import shutil\n",
    "import yaml\n",
    "\n",
    "# Copy images and labels to respective directories\n",
    "find_and_copy_images_and_labels(train_samples, 'train')\n",
    "find_and_copy_images_and_labels(valid_samples, 'valid')\n",
    "find_and_copy_images_and_labels(test_samples, 'test')\n",
    "\n",
    "# Create data.yaml file\n",
    "data_yaml = {\n",
    "    'train': os.path.join(output_dataset_path, 'train'),\n",
    "    'val': os.path.join(output_dataset_path, 'valid'),\n",
    "    'test': os.path.join(output_dataset_path, 'test'),\n",
    "    'nc': 1,  # Number of classes\n",
    "    'names': ['License Plate']  # Replace with actual class names\n",
    "}\n",
    "with open(os.path.join(output_dataset_path, 'data.yaml'), 'w') as f:\n",
    "    yaml.dump(data_yaml, f, default_flow_style=False, sort_keys=False)\n",
    "\n",
    "print(\"Dataset split and data.yaml file created successfully.\")"
   ]
  },
  {
   "cell_type": "markdown",
   "metadata": {},
   "source": [
    "새로운 데이터셋 정상 생성 확인"
   ]
  },
  {
   "cell_type": "code",
   "execution_count": 21,
   "metadata": {},
   "outputs": [
    {
     "data": {
      "text/plain": [
       "20"
      ]
     },
     "execution_count": 21,
     "metadata": {},
     "output_type": "execute_result"
    }
   ],
   "source": [
    "len(os.listdir(os.path.join(output_dataset_path, 'valid', 'images')))"
   ]
  },
  {
   "cell_type": "markdown",
   "metadata": {},
   "source": [
    "### fiftyone dataset load 기능\n",
    "\n",
    "Fiftyone 자체 라이브러리로 구현된 dataset_type 별 데이터 로드, 추출 기능 실험"
   ]
  },
  {
   "cell_type": "code",
   "execution_count": 34,
   "metadata": {},
   "outputs": [],
   "source": [
    "name = \"yolo_loader_test\"\n",
    "\n",
    "fo.delete_dataset(name)"
   ]
  },
  {
   "cell_type": "markdown",
   "metadata": {},
   "source": [
    "데이터 읽어오기"
   ]
  },
  {
   "cell_type": "code",
   "execution_count": 35,
   "metadata": {},
   "outputs": [
    {
     "name": "stdout",
     "output_type": "stream",
     "text": [
      " 100% |███████████████| 2372/2372 [1.2s elapsed, 0s remaining, 2.0K samples/s]         \n",
      " 100% |███████████████████| 66/66 [30.3ms elapsed, 0s remaining, 2.2K samples/s]     \n",
      " 100% |███████████████████| 11/11 [7.6ms elapsed, 0s remaining, 1.4K samples/s]      \n"
     ]
    }
   ],
   "source": [
    "dataset_dir = '../../datasets/car_kolp_data'\n",
    "splits = ['train', 'val', 'test']\n",
    "\n",
    "dataset = fo.Dataset(name)\n",
    "\n",
    "for split in splits:\n",
    "    dataset.add_dir(\n",
    "        dataset_dir=dataset_dir,\n",
    "        dataset_type=fo.types.YOLOv5Dataset,\n",
    "        split=split,\n",
    "        tags=split,\n",
    "    )"
   ]
  },
  {
   "cell_type": "code",
   "execution_count": 36,
   "metadata": {},
   "outputs": [
    {
     "data": {
      "text/plain": [
       "2449"
      ]
     },
     "execution_count": 36,
     "metadata": {},
     "output_type": "execute_result"
    }
   ],
   "source": [
    "len(dataset)"
   ]
  },
  {
   "cell_type": "code",
   "execution_count": 37,
   "metadata": {},
   "outputs": [
    {
     "data": {
      "text/html": [
       "\n",
       "        <iframe\n",
       "            width=\"100%\"\n",
       "            height=\"800\"\n",
       "            src=\"http://localhost:9999/?notebook=True&subscription=717a435b-9731-47c5-80a4-a00fdd40ea64\"\n",
       "            frameborder=\"0\"\n",
       "            allowfullscreen\n",
       "            \n",
       "        ></iframe>\n",
       "        "
      ],
      "text/plain": [
       "<IPython.lib.display.IFrame at 0x175b3f350>"
      ]
     },
     "metadata": {},
     "output_type": "display_data"
    },
    {
     "data": {
      "text/plain": [
       "Dataset:          yolo_loader_test\n",
       "Media type:       image\n",
       "Num samples:      2449\n",
       "Selected samples: 0\n",
       "Selected labels:  0\n",
       "Session URL:      http://localhost:9999/"
      ]
     },
     "execution_count": 37,
     "metadata": {},
     "output_type": "execute_result"
    }
   ],
   "source": [
    "fo.launch_app(dataset, port=9999)"
   ]
  },
  {
   "cell_type": "markdown",
   "metadata": {},
   "source": [
    "데이터셋 포맷 별 추출 기능 제공"
   ]
  },
  {
   "cell_type": "code",
   "execution_count": 43,
   "metadata": {},
   "outputs": [
    {
     "name": "stdout",
     "output_type": "stream",
     "text": [
      " 100% |█████████████████████| 5/5 [20.6ms elapsed, 0s remaining, 242.2 samples/s] \n"
     ]
    }
   ],
   "source": [
    "saved_views = dataset.list_saved_views()\n",
    "view = dataset.load_saved_view(saved_views[0])\n",
    "export_dir = './datasets/512yolo/tmp/'\n",
    "\n",
    "view.export(\n",
    "    export_dir=export_dir,\n",
    "    dataset_type=fo.types.YOLOv5Dataset,\n",
    ")\n"
   ]
  },
  {
   "cell_type": "markdown",
   "metadata": {},
   "source": [
    "추출 결과 확인"
   ]
  },
  {
   "cell_type": "code",
   "execution_count": 44,
   "metadata": {},
   "outputs": [
    {
     "data": {
      "text/plain": [
       "['2024.11.08.16.30.03',\n",
       " '2024.11.08.16.48.59',\n",
       " '2024.11.08.17.40.32',\n",
       " '2024.11.08.17.56.20',\n",
       " '2024.11.08.17.57.50',\n",
       " '2024.11.08.17.59.03',\n",
       " '2024.11.12.11.21.54',\n",
       " '2024.11.12.11.25.53',\n",
       " '2024.11.13.12.23.50',\n",
       " '2024.11.13.12.28.02',\n",
       " '2024.11.13.17.45.58',\n",
       " '2024.11.13.17.47.49',\n",
       " '2024.11.13.17.48.09',\n",
       " '2024.11.13.17.48.47',\n",
       " '2024.11.13.17.49.03',\n",
       " 'lghangul_dataset',\n",
       " 'yolo_loader_test']"
      ]
     },
     "execution_count": 44,
     "metadata": {},
     "output_type": "execute_result"
    }
   ],
   "source": [
    "fo.list_datasets()"
   ]
  },
  {
   "cell_type": "code",
   "execution_count": 45,
   "metadata": {},
   "outputs": [
    {
     "data": {
      "text/plain": [
       "Name:        2024.11.08.16.30.03\n",
       "Media type:  image\n",
       "Num samples: 2449\n",
       "Persistent:  False\n",
       "Tags:        []\n",
       "Sample fields:\n",
       "    id:               fiftyone.core.fields.ObjectIdField\n",
       "    filepath:         fiftyone.core.fields.StringField\n",
       "    tags:             fiftyone.core.fields.ListField(fiftyone.core.fields.StringField)\n",
       "    metadata:         fiftyone.core.fields.EmbeddedDocumentField(fiftyone.core.metadata.ImageMetadata)\n",
       "    created_at:       fiftyone.core.fields.DateTimeField\n",
       "    last_modified_at: fiftyone.core.fields.DateTimeField"
      ]
     },
     "execution_count": 45,
     "metadata": {},
     "output_type": "execute_result"
    }
   ],
   "source": [
    "fo.load_dataset('2024.11.08.16.30.03')"
   ]
  },
  {
   "cell_type": "code",
   "execution_count": 48,
   "metadata": {},
   "outputs": [
    {
     "data": {
      "text/html": [
       "\n",
       "        <iframe\n",
       "            width=\"100%\"\n",
       "            height=\"800\"\n",
       "            src=\"http://localhost:9991/?notebook=True&subscription=8b3cf373-6933-4881-b73c-e57076486d94\"\n",
       "            frameborder=\"0\"\n",
       "            allowfullscreen\n",
       "            \n",
       "        ></iframe>\n",
       "        "
      ],
      "text/plain": [
       "<IPython.lib.display.IFrame at 0x175a2a6f0>"
      ]
     },
     "metadata": {},
     "output_type": "display_data"
    },
    {
     "data": {
      "text/plain": [
       "Dataset:          yolo_loader_test\n",
       "Media type:       image\n",
       "Num samples:      2449\n",
       "Selected samples: 0\n",
       "Selected labels:  0\n",
       "Session URL:      http://localhost:9991/"
      ]
     },
     "execution_count": 48,
     "metadata": {},
     "output_type": "execute_result"
    }
   ],
   "source": [
    "fo.launch_app(dataset, port=9991)"
   ]
  },
  {
   "cell_type": "markdown",
   "metadata": {},
   "source": [
    "데이터셋에 태그를 부여해 포맷 구분"
   ]
  },
  {
   "cell_type": "code",
   "execution_count": 10,
   "metadata": {},
   "outputs": [
    {
     "data": {
      "text/plain": [
       "Name:        kolp_dataset\n",
       "Media type:  image\n",
       "Num samples: 2449\n",
       "Persistent:  True\n",
       "Tags:        []\n",
       "Sample fields:\n",
       "    id:               fiftyone.core.fields.ObjectIdField\n",
       "    filepath:         fiftyone.core.fields.StringField\n",
       "    tags:             fiftyone.core.fields.ListField(fiftyone.core.fields.StringField)\n",
       "    metadata:         fiftyone.core.fields.EmbeddedDocumentField(fiftyone.core.metadata.ImageMetadata)\n",
       "    created_at:       fiftyone.core.fields.DateTimeField\n",
       "    last_modified_at: fiftyone.core.fields.DateTimeField\n",
       "    ground_truth:     fiftyone.core.fields.EmbeddedDocumentField(fiftyone.core.labels.Detections)\n",
       "    clip_embeddings:  fiftyone.core.fields.ListField(fiftyone.core.fields.FloatField)"
      ]
     },
     "execution_count": 10,
     "metadata": {},
     "output_type": "execute_result"
    }
   ],
   "source": [
    "dataset = fo.load_dataset('kolp_dataset')"
   ]
  },
  {
   "cell_type": "code",
   "execution_count": 21,
   "metadata": {},
   "outputs": [],
   "source": [
    "dataset.tags.append(\"YOLOv5Dataset\")\n",
    "dataset.save()"
   ]
  },
  {
   "cell_type": "code",
   "execution_count": 23,
   "metadata": {},
   "outputs": [
    {
     "data": {
      "text/plain": [
       "['YOLOv5Dataset']"
      ]
     },
     "execution_count": 23,
     "metadata": {},
     "output_type": "execute_result"
    }
   ],
   "source": [
    "dataset.tags"
   ]
  },
  {
   "cell_type": "code",
   "execution_count": 24,
   "metadata": {},
   "outputs": [
    {
     "name": "stdout",
     "output_type": "stream",
     "text": [
      "Dataset type is YOLOv5Dataset\n"
     ]
    }
   ],
   "source": [
    "if \"YOLOv5Dataset\" in dataset.tags:\n",
    "    print(\"Dataset type is YOLOv5 Dataset\")\n",
    "elif \"FiftyOneDataset\" in dataset.tags:\n",
    "    print(\"Dataset type is FiftyOne Dataset\")"
   ]
  },
  {
   "cell_type": "markdown",
   "metadata": {},
   "source": [
    "# 데모 앱 실행\n",
    "\n",
    "## Run App\n",
    "```bash\n",
    "bash run.sh\n",
    "```\n",
    ">args\n",
    ">- dataset_dir : 데이터셋 경로\n",
    ">- dataset_name : 데이터셋 이름\n",
    ">- dataset_type : 데이터셋 포맷 (51, yolo)\n",
    ">- port : 포트 번호\n",
    "\n",
    "## 데이터셋 구조\n",
    "\n",
    "### YOLOv5Dataset\n",
    "YOLO 데이터셋의 경우 데이터셋 폴더 내에 train, valid, test 폴더와 하위 images, labels 폴더로 구성됨<br>\n",
    "Dataset config file의 명칭은 dataset.yaml로 고정됨\n",
    "\n",
    "### FiftyOneDataset\n",
    "FiftyOne 데이터셋의 경우 자체 포맷에서 정의한 구성을 따름<br>\n",
    "* brain/ 폴더 내에 임베딩 벡터에 대한 데이터 저장\n",
    "* data/ 폴더 내에 이미지 데이터 저장\n",
    "* metadata.json 파일에 데이터셋에 대한 모든 정보 저장\n",
    "* samples.jsonl 파일에 각 이미지에 대한 정보 저장"
   ]
  }
 ],
 "metadata": {
  "kernelspec": {
   "display_name": "datadrift",
   "language": "python",
   "name": "python3"
  },
  "language_info": {
   "codemirror_mode": {
    "name": "ipython",
    "version": 3
   },
   "file_extension": ".py",
   "mimetype": "text/x-python",
   "name": "python",
   "nbconvert_exporter": "python",
   "pygments_lexer": "ipython3",
   "version": "3.12.5"
  }
 },
 "nbformat": 4,
 "nbformat_minor": 2
}
