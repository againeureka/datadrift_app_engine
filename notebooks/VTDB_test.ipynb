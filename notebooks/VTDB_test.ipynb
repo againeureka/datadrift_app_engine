{
 "cells": [
  {
   "cell_type": "markdown",
   "metadata": {},
   "source": [
    "# Vector DB Test\n",
    "\n",
    "벡터디비 활용을 통해 임베딩 데이터 저장 및 검색 테스트<br>\n",
    ">임베딩 추출 시간 절약, 데이터 저장 및 검색 효율성 증대 목적"
   ]
  },
  {
   "cell_type": "markdown",
   "metadata": {},
   "source": [
    "## milvus test\n",
    "\n",
    "오픈소스 벡터디비 milvus의 경량화 버전 milvus-lite 구동 테스트<br>\n",
    "> 파이썬 연결 지원, 파일 기반 데이터 제어, 로컬 환경 구축"
   ]
  },
  {
   "cell_type": "code",
   "execution_count": 1,
   "metadata": {},
   "outputs": [],
   "source": [
    "from pymilvus import MilvusClient\n",
    "\n",
    "db_client = MilvusClient(\"../db/DAE_data.db\")"
   ]
  },
  {
   "cell_type": "code",
   "execution_count": null,
   "metadata": {},
   "outputs": [],
   "source": []
  }
 ],
 "metadata": {
  "kernelspec": {
   "display_name": "datadrift",
   "language": "python",
   "name": "python3"
  },
  "language_info": {
   "codemirror_mode": {
    "name": "ipython",
    "version": 3
   },
   "file_extension": ".py",
   "mimetype": "text/x-python",
   "name": "python",
   "nbconvert_exporter": "python",
   "pygments_lexer": "ipython3",
   "version": "3.12.5"
  }
 },
 "nbformat": 4,
 "nbformat_minor": 2
}
