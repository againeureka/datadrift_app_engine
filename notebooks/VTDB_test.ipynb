{
 "cells": [
  {
   "cell_type": "markdown",
   "metadata": {},
   "source": [
    "# Vector DB Test\n",
    "\n",
    "벡터디비 활용을 통해 임베딩 데이터 저장 및 검색 테스트<br>\n",
    ">임베딩 추출 시간 절약, 데이터 저장 및 검색 효율성 증대 목적"
   ]
  },
  {
   "cell_type": "markdown",
   "metadata": {},
   "source": [
    "## milvus test\n",
    "\n",
    "오픈소스 벡터디비 milvus의 경량화 버전 milvus-lite 구동 테스트<br>\n",
    "> 파이썬 연결 지원, 파일 기반 데이터 제어, 로컬 환경 구축"
   ]
  },
  {
   "cell_type": "code",
   "execution_count": 1,
   "metadata": {},
   "outputs": [
    {
     "data": {
      "text/plain": [
       "['noise_composite_current',\n",
       " 'noise_composite_merged',\n",
       " 'noise_composite_pred',\n",
       " 'tunelpdr_merged_all']"
      ]
     },
     "execution_count": 1,
     "metadata": {},
     "output_type": "execute_result"
    }
   ],
   "source": [
    "import fiftyone as fo\n",
    "\n",
    "fo.list_datasets()"
   ]
  },
  {
   "cell_type": "code",
   "execution_count": 10,
   "metadata": {},
   "outputs": [
    {
     "data": {
      "text/plain": [
       "OrderedDict([('id', <fiftyone.core.fields.ObjectIdField at 0x7fa72722e300>),\n",
       "             ('filepath',\n",
       "              <fiftyone.core.fields.StringField at 0x7fa727a4d460>),\n",
       "             ('tags', <fiftyone.core.fields.ListField at 0x7fa72722f6e0>),\n",
       "             ('metadata',\n",
       "              <fiftyone.core.fields.EmbeddedDocumentField at 0x7fa736979490>),\n",
       "             ('created_at',\n",
       "              <fiftyone.core.fields.DateTimeField at 0x7fa72722f4a0>),\n",
       "             ('last_modified_at',\n",
       "              <fiftyone.core.fields.DateTimeField at 0x7fa766bab1a0>),\n",
       "             ('ground_truth',\n",
       "              <fiftyone.core.fields.EmbeddedDocumentField at 0x7fa7297b4d40>),\n",
       "             ('source', <fiftyone.core.fields.StringField at 0x7fa72910e930>),\n",
       "             ('clip_embeddings',\n",
       "              <fiftyone.core.fields.ListField at 0x7fa727b7bb60>)])"
      ]
     },
     "execution_count": 10,
     "metadata": {},
     "output_type": "execute_result"
    }
   ],
   "source": [
    "dataset = fo.load_dataset(\"noise_composite_merged\")\n",
    "sample = dataset.first()\n",
    "\n",
    "sample.get_field_schema()"
   ]
  },
  {
   "cell_type": "code",
   "execution_count": 28,
   "metadata": {},
   "outputs": [
    {
     "name": "stdout",
     "output_type": "stream",
     "text": [
      "67c91348df3013a998789607\n",
      "24\n",
      "<class 'str'>\n"
     ]
    }
   ],
   "source": [
    "print(sample.id)\n",
    "print(len(sample.id))\n",
    "print(type(sample.id))"
   ]
  },
  {
   "cell_type": "code",
   "execution_count": 23,
   "metadata": {},
   "outputs": [
    {
     "name": "stdout",
     "output_type": "stream",
     "text": [
      "{'state': <LoadState: Loaded>}\n"
     ]
    }
   ],
   "source": [
    "from pymilvus import MilvusClient\n",
    "from pymilvus import connections, FieldSchema, CollectionSchema, DataType, Collection\n",
    "\n",
    "db_client = MilvusClient(\"../db/DAE_data.db\")\n",
    "\n",
    "schema = db_client.create_schema(\n",
    "    auto_id=False,\n",
    "    enable_dynamic_field=True,\n",
    ")\n",
    "schema.add_field(field_name=\"sample_id\", datatype=DataType.VARCHAR, is_primary=True, max_length=24)\n",
    "schema.add_field(field_name=\"embedding\", datatype=DataType.FLOAT_VECTOR, dim=512)\n",
    "\n",
    "db_client.create_collection(\n",
    "    collection_name=\"test_collection\",\n",
    "    schema=schema\n",
    ")\n",
    "res = db_client.get_load_state(collection_name=\"test_collection\")\n",
    "print(res)"
   ]
  },
  {
   "cell_type": "code",
   "execution_count": 26,
   "metadata": {},
   "outputs": [
    {
     "data": {
      "text/plain": [
       "fiftyone.core.sample.Sample"
      ]
     },
     "execution_count": 26,
     "metadata": {},
     "output_type": "execute_result"
    }
   ],
   "source": [
    "type(sample)"
   ]
  },
  {
   "cell_type": "code",
   "execution_count": null,
   "metadata": {},
   "outputs": [],
   "source": [
    "data"
   ]
  }
 ],
 "metadata": {
  "kernelspec": {
   "display_name": "datadrift",
   "language": "python",
   "name": "python3"
  },
  "language_info": {
   "codemirror_mode": {
    "name": "ipython",
    "version": 3
   },
   "file_extension": ".py",
   "mimetype": "text/x-python",
   "name": "python",
   "nbconvert_exporter": "python",
   "pygments_lexer": "ipython3",
   "version": "3.12.5"
  }
 },
 "nbformat": 4,
 "nbformat_minor": 2
}
